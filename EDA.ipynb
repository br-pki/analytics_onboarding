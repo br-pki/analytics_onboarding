{
 "cells": [
  {
   "cell_type": "markdown",
   "id": "c9bff950-ae2d-4d51-93e0-e8a1c6061583",
   "metadata": {},
   "source": [
    "# EDA\n",
    "Start with this notebook before moving onto Exploration.ipynb.\n",
    "\n",
    "This notebook provides a semi-guided exploration of a data set. The purpose is to familiarize yourself with the data, brush up on some common EDA techniques, and prepare for the more open-ended and self-directed task that follows."
   ]
  },
  {
   "cell_type": "code",
   "execution_count": 1,
   "id": "f6a79d3a-8146-42fb-a927-d20c27e7d64b",
   "metadata": {},
   "outputs": [],
   "source": [
    "# use the following OneDrive link to download a copy of this file to your device\n",
    "# either save the downloaded file to the path indicated below or update the path accordingly\n",
    "# https://perkinelmer-my.sharepoint.com/:x:/p/bryan_romas/EQGG-RAMTVxIhZi4XItMdb4BUyV40MW4JD4RnYF2KyWcaQ?e=FiyVOx\n",
    "\n",
    "COPPER_FILE = 'data/copper_production_v1.csv'"
   ]
  },
  {
   "cell_type": "markdown",
   "id": "9ad18001-1256-4155-9d70-67f9f8127ef7",
   "metadata": {},
   "source": [
    "This file contains data from a factory that manufactures copper wire, specifically counts of two types of failures (Cable Failures & Other Failures) and the related amount of downtime captured in minutes (Cable Failure Downtime & Other Failure Downtime).\n",
    "\n",
    "Overall, the goal is to identify the primary source(s) of failures and downtimes and, if possible, to assess the certainty of those conclusions.  "
   ]
  },
  {
   "cell_type": "markdown",
   "id": "68546659-5579-4f86-8599-73a39be0b643",
   "metadata": {},
   "source": [
    "## Load COPPER_FILE & describe the contents (the number of records, average values, etc.)"
   ]
  },
  {
   "cell_type": "code",
   "execution_count": 2,
   "id": "ffae670f-b7f8-47af-ab5b-b984fae89679",
   "metadata": {},
   "outputs": [],
   "source": [
    "import pandas as pd"
   ]
  },
  {
   "cell_type": "code",
   "execution_count": 3,
   "id": "43ebb77b-7572-4bf6-9f36-fec479b98e0b",
   "metadata": {},
   "outputs": [],
   "source": [
    "# load COPPER_FILE\n",
    "copper_df = None"
   ]
  },
  {
   "cell_type": "markdown",
   "id": "d6833c9b-bfef-449f-beee-90b851a50d12",
   "metadata": {
    "tags": []
   },
   "source": [
    "## Check for & remove exact duplicates"
   ]
  },
  {
   "cell_type": "code",
   "execution_count": 4,
   "id": "f8a7ff7f-e9a5-45cd-8e2d-8926a01f9346",
   "metadata": {},
   "outputs": [],
   "source": [
    "# a duplicate is defined as two or more records with the same values for all columns in the data\n",
    "# report the number of duplicates that were removed"
   ]
  },
  {
   "cell_type": "code",
   "execution_count": 5,
   "id": "89e5e9de-f6a8-4aeb-a01d-095154333a24",
   "metadata": {},
   "outputs": [],
   "source": [
    "# remove the duplicates"
   ]
  },
  {
   "cell_type": "markdown",
   "id": "d13a576b-459b-4246-87c3-e52a1279e244",
   "metadata": {},
   "source": [
    "## Combine multiple records"
   ]
  },
  {
   "cell_type": "code",
   "execution_count": 6,
   "id": "706aac8e-3d9f-4130-80c7-e6846ceeaad9",
   "metadata": {},
   "outputs": [],
   "source": [
    "# there shouldn't be more than one record per Machine-Shift-Operator-Date combination\n",
    "# combine any such records so the resulting record contains the sums of the remaining columns"
   ]
  },
  {
   "cell_type": "markdown",
   "id": "09a0befd-572a-4aad-b416-5c2f9dc48955",
   "metadata": {},
   "source": [
    "## Load & process OPERATOR_FILE"
   ]
  },
  {
   "cell_type": "code",
   "execution_count": 7,
   "id": "904ab125-d499-45d8-85f5-843d14ab46ce",
   "metadata": {},
   "outputs": [],
   "source": [
    "# similar process to COPPER_FILE\n",
    "# https://perkinelmer-my.sharepoint.com/:t:/p/bryan_romas/EQLgOytFSANKtmt1zKFF7tMBaiLXru6Blscn8kqlyr7t2w?e=M5E5cb\n",
    "\n",
    "OPERATOR_FILE = 'data/operator_names.txt'"
   ]
  },
  {
   "cell_type": "markdown",
   "id": "f7a24dcc-6c0e-4d7e-8aa5-e3494c1a191d",
   "metadata": {},
   "source": [
    "This file contains a mapping between operator numbers and names. In general, the contents are formatted in the following manner: {operator number}{first name}{last name}.\n",
    "\n",
    "Overall, the goal is to load the file; extract the operator number, first name, and last initial; and merge or map those names into copper_df so you can reference the operators' first names and last initials instead of their numbers in the subsequent analysis.\n",
    "\n",
    "Ideally, you'll load the file and extract the necessary content by completing the function definition below (get_operator_names). However, if this proves too challenging then you may take any other programmatic approach to accomplish the goal. However, don't manually copy the file contents into the notebook or manipulate the contents of the file so the task is easier."
   ]
  },
  {
   "cell_type": "code",
   "execution_count": 8,
   "id": "7585d53f-a98b-4565-a372-42a0a23cacb2",
   "metadata": {},
   "outputs": [],
   "source": [
    "# load & process OPERATOR_FILE\n",
    "# HINT: you may want to use regex here\n",
    "import re\n",
    "\n",
    "def get_operator_names(operator_file: str)->pd.DataFrame:\n",
    "    \"\"\"\n",
    "    Load & process the contents of a file containing operator details.\n",
    "    \n",
    "    Params:\n",
    "    operator_file - str; the path to the operator file.\n",
    "    \n",
    "    Returns:\n",
    "    operator_df - pd.DataFrame; the extracted content of the operator file. The\n",
    "        columns should include Operator Number, First Name, & Last Initial.\n",
    "    \"\"\"\n",
    "    assert isinstance(operator_file, str), 'operator_file is not of type str.'\n",
    "    \n",
    "    # create an empty df to fill with contents of operator_file\n",
    "    operator_df = pd.DataFrame(columns=['Operator Number','First Name','Last Initial'])\n",
    "    \n",
    "    return operator_df"
   ]
  },
  {
   "cell_type": "code",
   "execution_count": 9,
   "id": "800f1622-4f0c-4fb2-9323-29290a7efe9b",
   "metadata": {},
   "outputs": [
    {
     "data": {
      "text/html": [
       "<div>\n",
       "<style scoped>\n",
       "    .dataframe tbody tr th:only-of-type {\n",
       "        vertical-align: middle;\n",
       "    }\n",
       "\n",
       "    .dataframe tbody tr th {\n",
       "        vertical-align: top;\n",
       "    }\n",
       "\n",
       "    .dataframe thead th {\n",
       "        text-align: right;\n",
       "    }\n",
       "</style>\n",
       "<table border=\"1\" class=\"dataframe\">\n",
       "  <thead>\n",
       "    <tr style=\"text-align: right;\">\n",
       "      <th></th>\n",
       "      <th>Operator Number</th>\n",
       "      <th>First Name</th>\n",
       "      <th>Last Initial</th>\n",
       "    </tr>\n",
       "  </thead>\n",
       "  <tbody>\n",
       "  </tbody>\n",
       "</table>\n",
       "</div>"
      ],
      "text/plain": [
       "Empty DataFrame\n",
       "Columns: [Operator Number, First Name, Last Initial]\n",
       "Index: []"
      ]
     },
     "execution_count": 9,
     "metadata": {},
     "output_type": "execute_result"
    }
   ],
   "source": [
    "operator_df = get_operator_names(OPERATOR_FILE)\n",
    "operator_df"
   ]
  },
  {
   "cell_type": "markdown",
   "id": "f8cc386b-e37e-40f5-bafc-29d37cabecc4",
   "metadata": {},
   "source": [
    "## How many unique Machines, Shifts, & Operator Names are included in the data? Plot the proportion of the total for each.\n",
    "\n",
    "Below is an example of the first plot you'll create.\n",
    "\n",
    "![image](img/machine_proportions.PNG)"
   ]
  },
  {
   "cell_type": "code",
   "execution_count": 10,
   "id": "8965828b-4859-4225-9d50-5299790cf164",
   "metadata": {},
   "outputs": [],
   "source": [
    "import matplotlib.pyplot as plt\n",
    "import seaborn as sns\n",
    "\n",
    "# a simple theme that's better than the default\n",
    "sns.set_theme(\n",
    "    context='notebook',\n",
    "    style='darkgrid', \n",
    "    palette='husl',\n",
    "    rc={\"figure.figsize\":(24, 8)}\n",
    ")"
   ]
  },
  {
   "cell_type": "markdown",
   "id": "19886fb0-b504-49e3-b478-ae2798097462",
   "metadata": {},
   "source": [
    "### Machines"
   ]
  },
  {
   "cell_type": "code",
   "execution_count": 11,
   "id": "cae4ca09-5c01-46df-b12d-148391ba7f4b",
   "metadata": {},
   "outputs": [],
   "source": [
    "# get the total number of unique Machines in the data as well as the proportion of the total (i.e. normalized count)"
   ]
  },
  {
   "cell_type": "code",
   "execution_count": 12,
   "id": "073c206c-2711-412c-8f6b-d355de62b9a6",
   "metadata": {},
   "outputs": [],
   "source": [
    "# plot each Machines's proportion of the total\n",
    "# HINT: for a simple bar chart you can call .plot() on a pd.Series or pd.DataFrame"
   ]
  },
  {
   "cell_type": "markdown",
   "id": "dfb4ce25-f49f-4911-a783-f4603c22780a",
   "metadata": {},
   "source": [
    "### Shifts"
   ]
  },
  {
   "cell_type": "code",
   "execution_count": 13,
   "id": "ce54b76f-86a1-4210-adb2-10209494ae14",
   "metadata": {},
   "outputs": [],
   "source": [
    "# get the total number of unique Shifts in the data as well as the proportion of the total (i.e. normalized count)"
   ]
  },
  {
   "cell_type": "code",
   "execution_count": 14,
   "id": "6aa6fe63-8223-4f28-ab06-6b338a48444f",
   "metadata": {},
   "outputs": [],
   "source": [
    "# plot each Shift's proportion of the total, same idea as above"
   ]
  },
  {
   "cell_type": "markdown",
   "id": "6f1c93eb-f472-428f-93a7-51d72e213116",
   "metadata": {},
   "source": [
    "### Operator Names"
   ]
  },
  {
   "cell_type": "code",
   "execution_count": 15,
   "id": "e73129e1-abb2-472d-99ef-841dd40475f7",
   "metadata": {},
   "outputs": [],
   "source": [
    "# get the total number of unique Operator Names in the data as well as the proportion of the total (i.e. normalized count)"
   ]
  },
  {
   "cell_type": "code",
   "execution_count": 16,
   "id": "c497ed05-aeef-4bc3-a11f-c18e683b9133",
   "metadata": {},
   "outputs": [],
   "source": [
    "# plot each Operators's proportion of the total, again the same as above"
   ]
  },
  {
   "cell_type": "markdown",
   "id": "bef0fcec-1753-4934-940c-27d2a672cca8",
   "metadata": {},
   "source": [
    "## How many dates are included in the data?"
   ]
  },
  {
   "cell_type": "code",
   "execution_count": 17,
   "id": "5cb9ceee-e2cb-40c3-bdd4-d8b07bcd266b",
   "metadata": {},
   "outputs": [],
   "source": [
    "# get the total number of Dates in the data as well as how many records exist for each"
   ]
  },
  {
   "cell_type": "markdown",
   "id": "da564045-f26c-4cd9-b8fb-012557b424b1",
   "metadata": {},
   "source": [
    "### Are any dates that should be covered by the range of the data missing? If so, which and how could this be addressed?"
   ]
  },
  {
   "cell_type": "code",
   "execution_count": 18,
   "id": "b6d2c39f-cfac-4a05-ba73-5783605e96a8",
   "metadata": {},
   "outputs": [],
   "source": [
    "# identify if any dates are missing in the data\n",
    "# if so, simply explain how the missing data could be addressed no need to solve it in code here"
   ]
  },
  {
   "cell_type": "markdown",
   "id": "4b615ba3-44ba-4137-a542-2640f13446be",
   "metadata": {
    "tags": []
   },
   "source": [
    "## Create 'Day of Week' column"
   ]
  },
  {
   "cell_type": "code",
   "execution_count": 19,
   "id": "6f118bf7-8f4e-4f13-8baf-2f96d9c7e851",
   "metadata": {},
   "outputs": [],
   "source": [
    "# insert a new column indicating the day of the week e.g., Monday"
   ]
  },
  {
   "cell_type": "markdown",
   "id": "66e08ae6-a7e5-43f3-9950-3b3429a6bda1",
   "metadata": {},
   "source": [
    "## Create 'Total Failures' & 'Total Downtime' columns"
   ]
  },
  {
   "cell_type": "code",
   "execution_count": 20,
   "id": "31e84ad9-9f47-4f60-ad4d-735ad123cae9",
   "metadata": {},
   "outputs": [],
   "source": [
    "# insert two new columns to calculate the simple sum of failures & downtime for a given record"
   ]
  },
  {
   "cell_type": "markdown",
   "id": "8f2d2f57-a037-4a70-aa4e-0293069251c8",
   "metadata": {},
   "source": [
    "## Plot the sum of downtimes by 'Date'\n",
    "\n",
    "Below is an example of this plot.\n",
    "\n",
    "![image](img/downtimes_by_date.PNG)"
   ]
  },
  {
   "cell_type": "code",
   "execution_count": 21,
   "id": "860bafca-691a-4f48-8355-3acee384d7ff",
   "metadata": {},
   "outputs": [],
   "source": [
    "# prep the data, calculate sums\n",
    "# HINT: you may want to group the data by Date & use an aggregation function like .sum()"
   ]
  },
  {
   "cell_type": "code",
   "execution_count": 22,
   "id": "cd0bb5d0-da3a-41ec-b566-814c4849ccad",
   "metadata": {},
   "outputs": [],
   "source": [
    "# line chart with 'Date' along the x-axis (in ascending chronological order), minutes along the y-axis, & three lines: Cable Failure Downtime, Other Failure Downtime, & Total Failure Downtime\n",
    "# HINT: you'll likely want to call plt.plot() once for each line you're plotting "
   ]
  },
  {
   "cell_type": "markdown",
   "id": "35c6cacc-1ec0-4d0b-aca5-acfc00af01f6",
   "metadata": {},
   "source": [
    "## Plot the mean downtime by 'Day of Week'"
   ]
  },
  {
   "cell_type": "code",
   "execution_count": 23,
   "id": "b4cefc47-252f-4912-8018-e5e6f2fb5351",
   "metadata": {},
   "outputs": [],
   "source": [
    "# prep the data, calculate means"
   ]
  },
  {
   "cell_type": "code",
   "execution_count": 24,
   "id": "07ca19c0-dded-44c6-a739-2d88a84fc884",
   "metadata": {},
   "outputs": [],
   "source": [
    "# line chart with 'Day of Week' along the x-axis, minutes along the y-axis, & three lines: Cable Failure Downtime, Other Failure Downtime, & Total Failure Downtime"
   ]
  },
  {
   "cell_type": "markdown",
   "id": "65f5ce58-5f99-452a-b98e-8426ed55ba93",
   "metadata": {},
   "source": [
    "# End"
   ]
  }
 ],
 "metadata": {
  "kernelspec": {
   "display_name": "Python 3",
   "language": "python",
   "name": "python3"
  },
  "language_info": {
   "codemirror_mode": {
    "name": "ipython",
    "version": 3
   },
   "file_extension": ".py",
   "mimetype": "text/x-python",
   "name": "python",
   "nbconvert_exporter": "python",
   "pygments_lexer": "ipython3",
   "version": "3.9.4"
  }
 },
 "nbformat": 4,
 "nbformat_minor": 5
}
