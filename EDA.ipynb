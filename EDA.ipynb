{
 "cells": [
  {
   "cell_type": "markdown",
   "id": "c9bff950-ae2d-4d51-93e0-e8a1c6061583",
   "metadata": {},
   "source": [
    "# EDA"
   ]
  },
  {
   "cell_type": "code",
   "execution_count": 65,
   "id": "f6a79d3a-8146-42fb-a927-d20c27e7d64b",
   "metadata": {},
   "outputs": [],
   "source": [
    "FILE = 'data/copper_production_v1.csv'"
   ]
  },
  {
   "cell_type": "code",
   "execution_count": 66,
   "id": "ffae670f-b7f8-47af-ab5b-b984fae89679",
   "metadata": {},
   "outputs": [],
   "source": [
    "import pandas as pd"
   ]
  },
  {
   "cell_type": "code",
   "execution_count": 67,
   "id": "43ebb77b-7572-4bf6-9f36-fec479b98e0b",
   "metadata": {},
   "outputs": [],
   "source": [
    "df = pd.read_csv(FILE, index_col=0)"
   ]
  },
  {
   "cell_type": "code",
   "execution_count": 68,
   "id": "9d918298-f760-46fa-b2ab-965bedf6dd82",
   "metadata": {},
   "outputs": [
    {
     "data": {
      "text/html": [
       "<div>\n",
       "<style scoped>\n",
       "    .dataframe tbody tr th:only-of-type {\n",
       "        vertical-align: middle;\n",
       "    }\n",
       "\n",
       "    .dataframe tbody tr th {\n",
       "        vertical-align: top;\n",
       "    }\n",
       "\n",
       "    .dataframe thead th {\n",
       "        text-align: right;\n",
       "    }\n",
       "</style>\n",
       "<table border=\"1\" class=\"dataframe\">\n",
       "  <thead>\n",
       "    <tr style=\"text-align: right;\">\n",
       "      <th></th>\n",
       "      <th>Machine</th>\n",
       "      <th>Shift</th>\n",
       "      <th>Operator</th>\n",
       "      <th>Date</th>\n",
       "      <th>Cable Failures</th>\n",
       "      <th>Cable Failure Downtime</th>\n",
       "      <th>Other Failures</th>\n",
       "      <th>Other Failure Downtime</th>\n",
       "    </tr>\n",
       "  </thead>\n",
       "  <tbody>\n",
       "    <tr>\n",
       "      <th>63</th>\n",
       "      <td>5</td>\n",
       "      <td>A</td>\n",
       "      <td>9</td>\n",
       "      <td>11/17/2020</td>\n",
       "      <td>1</td>\n",
       "      <td>50</td>\n",
       "      <td>0</td>\n",
       "      <td>0</td>\n",
       "    </tr>\n",
       "    <tr>\n",
       "      <th>7</th>\n",
       "      <td>16</td>\n",
       "      <td>B</td>\n",
       "      <td>27</td>\n",
       "      <td>11/14/2020</td>\n",
       "      <td>1</td>\n",
       "      <td>60</td>\n",
       "      <td>1</td>\n",
       "      <td>60</td>\n",
       "    </tr>\n",
       "    <tr>\n",
       "      <th>35</th>\n",
       "      <td>9</td>\n",
       "      <td>A</td>\n",
       "      <td>18</td>\n",
       "      <td>11/14/2020</td>\n",
       "      <td>1</td>\n",
       "      <td>25</td>\n",
       "      <td>0</td>\n",
       "      <td>0</td>\n",
       "    </tr>\n",
       "  </tbody>\n",
       "</table>\n",
       "</div>"
      ],
      "text/plain": [
       "    Machine Shift  Operator        Date  Cable Failures  \\\n",
       "63        5     A         9  11/17/2020               1   \n",
       "7        16     B        27  11/14/2020               1   \n",
       "35        9     A        18  11/14/2020               1   \n",
       "\n",
       "    Cable Failure Downtime  Other Failures  Other Failure Downtime  \n",
       "63                      50               0                       0  \n",
       "7                       60               1                      60  \n",
       "35                      25               0                       0  "
      ]
     },
     "execution_count": 68,
     "metadata": {},
     "output_type": "execute_result"
    }
   ],
   "source": [
    "df.sample(3)"
   ]
  },
  {
   "cell_type": "code",
   "execution_count": 69,
   "id": "70e7d89e-c116-47e3-b3b3-f179c91c3be1",
   "metadata": {},
   "outputs": [
    {
     "data": {
      "text/plain": [
       "(154, 8)"
      ]
     },
     "execution_count": 69,
     "metadata": {},
     "output_type": "execute_result"
    }
   ],
   "source": [
    "df.shape"
   ]
  },
  {
   "cell_type": "markdown",
   "id": "6ca0dd28-7288-41c4-bc94-0f8b7f490683",
   "metadata": {},
   "source": [
    "## Convert Date to datetime format"
   ]
  },
  {
   "cell_type": "code",
   "execution_count": 71,
   "id": "594fef58-febb-485e-9023-a62fd7b1cf0d",
   "metadata": {},
   "outputs": [],
   "source": [
    "# either convert to datetime or do this when loading the file"
   ]
  },
  {
   "cell_type": "markdown",
   "id": "d6833c9b-bfef-449f-beee-90b851a50d12",
   "metadata": {},
   "source": [
    "## Check for & remove duplicates"
   ]
  },
  {
   "cell_type": "code",
   "execution_count": 76,
   "id": "f8a7ff7f-e9a5-45cd-8e2d-8926a01f9346",
   "metadata": {},
   "outputs": [
    {
     "name": "stdout",
     "output_type": "stream",
     "text": [
      "5\n"
     ]
    }
   ],
   "source": [
    "# a duplicate is defined as two or more records with the same values for all columns in the data\n",
    "number_dupes = len(df[df.duplicated()])\n",
    "# report the number of duplicates that were removed\n",
    "print(number_dupes)"
   ]
  },
  {
   "cell_type": "code",
   "execution_count": 77,
   "id": "60aa5487-eff5-43ce-b775-1dc14c6974f9",
   "metadata": {},
   "outputs": [],
   "source": [
    "# # create dupes\n",
    "# dupes = df.sample(int(len(df)*0.03))\n",
    "# dupes_ex = dupes.iloc[-1]\n",
    "# df = df.append(dupes, ignore_index=True).append(dupes_ex, ignore_index=True)\n",
    "# df = df.sample(frac=1).reset_index()\n",
    "# df.to_csv('data/copper_production_v1.csv')"
   ]
  },
  {
   "cell_type": "code",
   "execution_count": null,
   "id": "2e12b9f1-2c70-4995-b552-6abea3fd6b66",
   "metadata": {},
   "outputs": [],
   "source": [
    "# df[df.duplicated(subset=['Machine','Shift','Operator','Date'], keep=False)] # these are records that should be combined into one observation & the values summed"
   ]
  },
  {
   "cell_type": "markdown",
   "id": "66e08ae6-a7e5-43f3-9950-3b3429a6bda1",
   "metadata": {},
   "source": [
    "## Create columns for 'Total Failures' & 'Total Downtime'"
   ]
  },
  {
   "cell_type": "code",
   "execution_count": null,
   "id": "31e84ad9-9f47-4f60-ad4d-735ad123cae9",
   "metadata": {},
   "outputs": [],
   "source": [
    "# insert two new columns to calculate the simple sum of failures & downtime for a given record "
   ]
  },
  {
   "cell_type": "markdown",
   "id": "bf160a36-f45d-442e-b817-1a9db2f4a96c",
   "metadata": {},
   "source": [
    "## Identify the Machines responsible for 80% of overall 'Total Failures'"
   ]
  },
  {
   "cell_type": "markdown",
   "id": "d07d8103-d989-43d8-a1e5-efa532c03256",
   "metadata": {},
   "source": [
    "# "
   ]
  },
  {
   "cell_type": "markdown",
   "id": "65f5ce58-5f99-452a-b98e-8426ed55ba93",
   "metadata": {},
   "source": [
    "# End"
   ]
  }
 ],
 "metadata": {
  "kernelspec": {
   "display_name": "Python 3",
   "language": "python",
   "name": "python3"
  },
  "language_info": {
   "codemirror_mode": {
    "name": "ipython",
    "version": 3
   },
   "file_extension": ".py",
   "mimetype": "text/x-python",
   "name": "python",
   "nbconvert_exporter": "python",
   "pygments_lexer": "ipython3",
   "version": "3.9.4"
  }
 },
 "nbformat": 4,
 "nbformat_minor": 5
}
