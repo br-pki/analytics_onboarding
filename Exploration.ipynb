{
 "cells": [
  {
   "cell_type": "markdown",
   "id": "ba2dff68-fc5c-4402-8a03-1c863a016370",
   "metadata": {
    "tags": []
   },
   "source": [
    "# Exploration\n",
    "Complete EDA.ipynb first!\n",
    "\n",
    "This notebook is a starting point for your own exploration of the data and should build upon your work and knowledge gained from EDA.ipynb. As a reminder, the goal is to identify the primary source(s) of failures and downtimes and, if possible, to assess the certainty of those conclusions.\n",
    "\n",
    "Some questions you could explore are:\n",
    "- Which Machines are responsible for 80% of overall Total Failures? Of overall Total Failure Downtime?\n",
    "- Are there significant differences in the performances of Machines, Shifts, or Operators?\n",
    "- If every minute of Cable Failure Downtime represents eight dollars of lost revenue and Other Failure Downtime represents five dollars then which Machines or Operators are responsible for the most lost revenue? "
   ]
  },
  {
   "cell_type": "code",
   "execution_count": 3,
   "id": "749de526-724a-42ba-9685-a7cbf18c159f",
   "metadata": {},
   "outputs": [],
   "source": [
    "# your code here, below, & in other files (i.e. a util file, if needed)"
   ]
  },
  {
   "cell_type": "markdown",
   "id": "3e55bdd5-329f-4532-9636-a0dfb76a9303",
   "metadata": {},
   "source": [
    "# End"
   ]
  }
 ],
 "metadata": {
  "kernelspec": {
   "display_name": "Python 3",
   "language": "python",
   "name": "python3"
  },
  "language_info": {
   "codemirror_mode": {
    "name": "ipython",
    "version": 3
   },
   "file_extension": ".py",
   "mimetype": "text/x-python",
   "name": "python",
   "nbconvert_exporter": "python",
   "pygments_lexer": "ipython3",
   "version": "3.9.4"
  }
 },
 "nbformat": 4,
 "nbformat_minor": 5
}
